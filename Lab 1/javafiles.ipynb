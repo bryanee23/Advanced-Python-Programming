{
 "metadata": {
  "language_info": {
   "codemirror_mode": {
    "name": "ipython",
    "version": 3
   },
   "file_extension": ".py",
   "mimetype": "text/x-python",
   "name": "python",
   "nbconvert_exporter": "python",
   "pygments_lexer": "ipython3",
   "version": "3.7.4-final"
  },
  "orig_nbformat": 2,
  "kernelspec": {
   "name": "python_defaultSpec_1599160673880",
   "display_name": "Python 3.7.4 64-bit ('ML': venv)"
  }
 },
 "nbformat": 4,
 "nbformat_minor": 2,
 "cells": [
  {
   "cell_type": "code",
   "execution_count": 10,
   "metadata": {
    "tags": []
   },
   "outputs": [],
   "source": [
    "import os\n",
    "def create_labs(lab_num, num_problems):\n",
    "    file_path = '/Users/bryanevangelista/Documents/00. Johns Hopkins/classes/03. java/0. labs/'\n",
    "    os.mkdir(f'{file_path}/lab{lab_num}')\n",
    "\n",
    "    with open(f'{file_path}/lab{lab_num}/touch.txt', \"w\") as f:\n",
    "        f.write(f\"cd Documents/00.\\ Johns\\ Hopkins/classes/03.\\ java/0.\\ labs/lab{lab_num}\")\n",
    "        f.write(\"\\n\\n\")\n",
    "        for i in range(1, num_problems+1):    \n",
    "            f.write(f\"open lab{lab_num}_{i}.java \\n\\n\")\n",
    "\n",
    "    for i in range(1, num_problems+1):\n",
    "        java_file = f'{file_path}/lab{lab_num}/lab{lab_num}_{i}.java'\n",
    "\n",
    "        with open(java_file, \"w\") as f:\n",
    "            f.write(\" \")\n",
    "\n",
    "create_labs(2, 5)"
   ]
  },
  {
   "cell_type": "code",
   "execution_count": null,
   "metadata": {},
   "outputs": [],
   "source": []
  }
 ]
}